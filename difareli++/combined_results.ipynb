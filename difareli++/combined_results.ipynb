{
 "cells": [
  {
   "cell_type": "code",
   "execution_count": 5,
   "id": "ee70b498",
   "metadata": {},
   "outputs": [
    {
     "name": "stdout",
     "output_type": "stream",
     "text": [
      "[#] Environment map:  117_hdrmaps_com_free_2K\n",
      "255 0 (60, 256, 256, 3) uint8\n"
     ]
    }
   ],
   "source": [
    "import glob, os\n",
    "from PIL import Image\n",
    "import numpy as np\n",
    "import torchvision\n",
    "import torch as th\n",
    "\n",
    "# subject = '60684'\n",
    "subject = '69757'\n",
    "# path = '/home/mint/Dev/DiFaReli++/TPAMI_baseline_MajorRevision/Neural_Gaffer/real_data_relighting/'\n",
    "path = '/home/mint/Dev/DiFaReli++/TPAMI_baseline_MajorRevision/Neural_Gaffer/difareli++/'\n",
    "\n",
    "input_image = sorted(glob.glob(f'{path}/{subject}/input_image/*.png'))\n",
    "pred_image = sorted(glob.glob(f'{path}/{subject}/pred_image/*.png'))\n",
    "target_envmap_ldr = sorted(glob.glob(f'{path}/{subject}/target_envmap_ldr/*.png'))\n",
    "\n",
    "\n",
    "out_dir = '/home/mint/Dev/DiFaReli++/TPAMI_baseline_MajorRevision/Neural_Gaffer/real_data_relighting/video/'\n",
    "os.makedirs(out_dir, exist_ok=True)\n",
    "out_dict = {}\n",
    "assert len(input_image) == len(pred_image) == len(target_envmap_ldr)\n",
    "\n",
    "for i in range(len(input_image)):\n",
    "    envmap_name = '_'.join(os.path.basename(input_image[i]).split('_')[:-1])\n",
    "    if out_dict.get(envmap_name) is None:\n",
    "        out_dict[envmap_name] = {\n",
    "            'input_image': [],\n",
    "            'pred_image': [],\n",
    "            'target_envmap_ldr': []\n",
    "        }\n",
    "    out_dict[envmap_name]['input_image'].append(np.array(Image.open(input_image[i])))\n",
    "    out_dict[envmap_name]['pred_image'].append(np.array(Image.open(pred_image[i])))\n",
    "    out_dict[envmap_name]['target_envmap_ldr'].append(np.array(Image.open(target_envmap_ldr[i])))\n",
    "\n",
    "for k in out_dict.keys():\n",
    "    print(\"[#] Environment map: \", k)\n",
    "    out_dict[k]['input_image'] = np.stack(out_dict[k]['input_image'])\n",
    "    out_dict[k]['pred_image'] = np.stack(out_dict[k]['pred_image'])\n",
    "    out_dict[k]['target_envmap_ldr'] = np.stack(out_dict[k]['target_envmap_ldr'])\n",
    "    print(np.max(out_dict[k]['input_image']), np.min(out_dict[k]['input_image']), out_dict[k]['input_image'].shape, out_dict[k]['input_image'].dtype)\n",
    "    # torchvision.io.write_video(filename=f'{out_dir}/{subject}_{k}_input.mp4', video_array=th.tensor(out_dict[k]['input_image']), fps=24)\n",
    "    # torchvision.io.write_video(filename=f'{out_dir}/{subject}_{k}_pred.mp4', video_array=th.tensor(out_dict[k]['pred_image']), fps=24)\n",
    "    # torchvision.io.write_video(filename=f'{out_dir}/{subject}_{k}_target.mp4', video_array=th.tensor(out_dict[k]['target_envmap_ldr']), fps=24)\n",
    "    \n",
    "    torchvision.io.write_video(filename=f'{out_dir}/{subject}_{k}_input.mp4', video_array=out_dict[k]['input_image'], fps=24)\n",
    "    torchvision.io.write_video(filename=f'{out_dir}/{subject}_{k}_pred.mp4', video_array=out_dict[k]['pred_image'], fps=24)\n",
    "    torchvision.io.write_video(filename=f'{out_dir}/{subject}_{k}_target.mp4', video_array=out_dict[k]['target_envmap_ldr'], fps=24)\n",
    "    \n",
    "    all_out = np.concatenate([out_dict[k]['input_image'], out_dict[k]['pred_image'], out_dict[k]['target_envmap_ldr']], axis=2)\n",
    "    torchvision.io.write_video(f'{out_dir}/{subject}_{k}_out.mp4', all_out, fps=24)\n",
    "    torchvision.io.write_video(f'{out_dir}/{subject}_{k}_out_rt.mp4', np.concatenate((all_out, all_out[::-1]), axis=0), fps=24)\n"
   ]
  }
 ],
 "metadata": {
  "kernelspec": {
   "display_name": "neural-gaffer",
   "language": "python",
   "name": "python3"
  },
  "language_info": {
   "codemirror_mode": {
    "name": "ipython",
    "version": 3
   },
   "file_extension": ".py",
   "mimetype": "text/x-python",
   "name": "python",
   "nbconvert_exporter": "python",
   "pygments_lexer": "ipython3",
   "version": "3.9.23"
  }
 },
 "nbformat": 4,
 "nbformat_minor": 5
}
