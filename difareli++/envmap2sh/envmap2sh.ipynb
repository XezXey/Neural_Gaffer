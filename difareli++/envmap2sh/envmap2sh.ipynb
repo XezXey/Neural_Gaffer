{
 "cells": [
  {
   "cell_type": "code",
   "execution_count": null,
   "id": "fc7dc7c8",
   "metadata": {},
   "outputs": [
    {
     "name": "stderr",
     "output_type": "stream",
     "text": [
      "  0%|          | 0/5 [00:00<?, ?it/s]"
     ]
    },
    {
     "name": "stdout",
     "output_type": "stream",
     "text": [
      "(3, 9) float64\n",
      "(3, 9) float64\n"
     ]
    },
    {
     "name": "stderr",
     "output_type": "stream",
     "text": [
      " 20%|██        | 1/5 [00:00<00:01,  3.73it/s]"
     ]
    },
    {
     "name": "stdout",
     "output_type": "stream",
     "text": [
      "(3, 9) (3, 9)float64(3, 9)\n",
      "  float64float64\n",
      "\n"
     ]
    },
    {
     "name": "stderr",
     "output_type": "stream",
     "text": [
      "100%|██████████| 5/5 [00:00<00:00, 18.11it/s]\n"
     ]
    }
   ],
   "source": [
    "# create a spherical harmonic from a chromeball image\n",
    "\n",
    "import os\n",
    "import numpy as np \n",
    "import skimage\n",
    "from scipy.ndimage import distance_transform_edt\n",
    "from multiprocessing import Pool \n",
    "from tqdm.auto import tqdm\n",
    "from sh_utils import get_shcoeff, unfold_sh_coeff, flatten_sh_coeff\n",
    "\n",
    "INPUT_DIR = \"/home/mint/Dev/DiFaReli++/TPAMI_baseline_MajorRevision/Neural_Gaffer/demo/environment_map_sample/\"\n",
    "OUTPUT_DIR = \"./shcoeffs/\"\n",
    "\n",
    "def process_file(image_name):\n",
    "    \n",
    "    image = skimage.io.imread(os.path.join(INPUT_DIR, image_name))\n",
    "    image = skimage.img_as_float(image)\n",
    "    print(np.max(image), np.min(image), image.shape, image.dtype)\n",
    "    coeff = get_shcoeff(image, Lmax=2)\n",
    "    shcoeff = flatten_sh_coeff(coeff, max_sh_level=2)\n",
    "    print(shcoeff.shape, shcoeff.dtype)\n",
    "    np.save(os.path.join(OUTPUT_DIR, image_name.replace(\".png\", \".npy\")), shcoeff)\n",
    "    return None\n",
    "\n",
    "def main():\n",
    "    os.makedirs(OUTPUT_DIR, exist_ok=True)\n",
    "    files = sorted(os.listdir(INPUT_DIR))\n",
    "    with Pool(16) as p:\n",
    "        list(tqdm(p.imap(process_file, files), total=len(files)))\n",
    "\n",
    "if __name__ == \"__main__\":\n",
    "    main()"
   ]
  },
  {
   "cell_type": "code",
   "execution_count": 13,
   "id": "fec7e4bb",
   "metadata": {},
   "outputs": [],
   "source": [
    "import torch as pt\n",
    "import numpy as np\n",
    "\n",
    "def drawSH(sh_np, img_size=256):\n",
    "    sh = pt.tensor(sh_np).view(9, 3)\n",
    "    ball = drawSphere(sh, img_size)\n",
    "    map, map_centered, map_clean = drawMap(sh, img_size)\n",
    "    combined = pt.cat([ball, map], 2)\n",
    "    # save_image(combined, output)\n",
    "    # save_image(map_centered, output.replace(\".png\", \"_centered.png\"))\n",
    "    return ball, map, map_centered, map_clean, combined\n",
    "\n",
    "def drawSphere(sh, img_size=256):\n",
    "  n = img_size\n",
    "  xyz = genSurfaceNormals(n)\n",
    "  out = applySHlightXYZ(xyz, sh)\n",
    "  out[:, xyz[2] == 0] = 0\n",
    "  return out\n",
    "\n",
    "def drawMap(sh, img_size=256):\n",
    "    n = img_size\n",
    "    lr = pt.linspace(0, 2 * np.pi, 2 * n)\n",
    "    ud = pt.linspace(0, np.pi, n)\n",
    "    ud, lr = pt.meshgrid(ud, lr)\n",
    "\n",
    "    # we want to make the sphere unwrap at the center of this map,\n",
    "    # so the left-most column is the furthest-away point on the sphere\n",
    "    # lr going counter-clockwise = increasing in value.\n",
    "    # ud starting from 0 (top) to pi (bottom).\n",
    "    # Lattitude = azimuth = deg from one of xz axis\n",
    "    # Longtitude = elevation = deg from y-axis\n",
    "    # In standard unitsphere orientation;\n",
    "    # z = up (so set y = pt(cos(ud))) ref. https://www.learningaboutelectronics.com/Articles/Spherical-to-cartesian-rectangular-coordinate-converter-calculator.php\n",
    "    x = -pt.sin(ud) * pt.sin(lr)  # Negative to ensure correct left-right orientation\n",
    "    y = pt.cos(ud)                # No negative sign needed for up-down orientation\n",
    "    z = -pt.sin(ud) * pt.cos(lr)  # Negative to ensure correct front-back orientation\n",
    "\n",
    "    lm = n // 2\n",
    "    rm = n + (n // 2)\n",
    "\n",
    "    out = applySHlightXYZ(pt.stack([x, y, z], 0), sh)\n",
    "    out_centered = out[:, :, lm:rm].clone()\n",
    "    out_clean = out.clone()\n",
    "    out[:, :, lm] = pt.tensor((1, 0, 0))[:, None]\n",
    "    out[:, :, rm] = pt.tensor((1, 0, 0))[:, None]\n",
    "    return out, out_centered, out_clean\n",
    "\n",
    "def applySHlightXYZ(xyz, sh):\n",
    "  out = applySHlight(xyz, sh)\n",
    "  # out /= pt.max(out)\n",
    "  out *= 0.7\n",
    "  return pt.clip(out, 0, 1)\n",
    "\n",
    "def genSurfaceNormals(n):\n",
    "  x = pt.linspace(-1, 1, n)\n",
    "  y = pt.linspace(1, -1, n)\n",
    "  y, x = pt.meshgrid(y, x)\n",
    "\n",
    "  z = (1 - x ** 2 - y ** 2)\n",
    "  z[z < 0] = 0\n",
    "  z = pt.sqrt(z)\n",
    "  return pt.stack([x, y, z], 0)\n",
    "\n",
    "def applySHlight(normal_images, sh_coeff):\n",
    "  N = normal_images\n",
    "  sh = pt.stack(\n",
    "    [\n",
    "      N[0] * 0.0 + 1.0,\n",
    "      N[0],\n",
    "      N[1],\n",
    "      N[2],\n",
    "      N[0] * N[1],\n",
    "      N[0] * N[2],\n",
    "      N[1] * N[2],\n",
    "      N[0] ** 2 - N[1] ** 2,\n",
    "      3 * (N[2] ** 2) - 1,\n",
    "    ],\n",
    "    0,\n",
    "  )  # [9, h, w]\n",
    "  pi = np.pi\n",
    "  constant_factor = pt.tensor(\n",
    "    [\n",
    "      1 / np.sqrt(4 * pi),\n",
    "      ((2 * pi) / 3) * (np.sqrt(3 / (4 * pi))),\n",
    "      ((2 * pi) / 3) * (np.sqrt(3 / (4 * pi))),\n",
    "      ((2 * pi) / 3) * (np.sqrt(3 / (4 * pi))),\n",
    "      (pi / 4) * (3) * (np.sqrt(5 / (12 * pi))),\n",
    "      (pi / 4) * (3) * (np.sqrt(5 / (12 * pi))),\n",
    "      (pi / 4) * (3) * (np.sqrt(5 / (12 * pi))),\n",
    "      (pi / 4) * (3 / 2) * (np.sqrt(5 / (12 * pi))),\n",
    "      (pi / 4) * (1 / 2) * (np.sqrt(5 / (4 * pi))),\n",
    "    ]\n",
    "  ).float()\n",
    "  sh = sh * constant_factor[:, None, None]\n",
    "\n",
    "  shading = pt.sum(\n",
    "    sh_coeff[:, :, None, None] * sh[:, None, :, :], 0\n",
    "  )  # [9, 3, h, w]\n",
    "\n",
    "  return shading\n"
   ]
  },
  {
   "cell_type": "code",
   "execution_count": 22,
   "id": "473c2265",
   "metadata": {},
   "outputs": [
    {
     "name": "stdout",
     "output_type": "stream",
     "text": [
      "(3, 9)\n",
      "(256, 256, 3) 0.1642726173468411 0.0\n",
      "(256, 256, 3) 41 0\n"
     ]
    },
    {
     "data": {
      "image/png": "[encoded data removed]",
      "text/plain": [
       "<Figure size 640x480 with 1 Axes>"
      ]
     },
     "metadata": {},
     "output_type": "display_data"
    }
   ],
   "source": [
    "import matplotlib.pyplot as plt\n",
    "\n",
    "map = '012_hdrmaps_com_free_2K.exr.npy'\n",
    "sh_coeffs = np.load(f'/home/mint/Dev/DiFaReli++/TPAMI_baseline_MajorRevision/Neural_Gaffer/difareli++/envmap2sh/shcoeffs/{map}')\n",
    "print(sh_coeffs.shape)\n",
    "sh_coeffs = sh_coeffs.T\n",
    "ball, map, map_centered, map_clean, combined = drawSH(sh_coeffs, img_size=256)\n",
    "ball = ball.numpy().transpose(1, 2, 0)  # Convert to HWC format for visualization   \n",
    "\n",
    "print(ball.shape, np.max(ball), np.min(ball))\n",
    "ball = (ball * 255).astype(np.uint8)  # Scale to [0, 255] for display\n",
    "print(ball.shape, np.max(ball), np.min(ball))\n",
    "plt.imshow(ball)\n",
    "plt.show()"
   ]
  }
 ],
 "metadata": {
  "kernelspec": {
   "display_name": "neural-gaffer",
   "language": "python",
   "name": "python3"
  },
  "language_info": {
   "codemirror_mode": {
    "name": "ipython",
    "version": 3
   },
   "file_extension": ".py",
   "mimetype": "text/x-python",
   "name": "python",
   "nbconvert_exporter": "python",
   "pygments_lexer": "ipython3",
   "version": "3.9.23"
  }
 },
 "nbformat": 4,
 "nbformat_minor": 5
}
