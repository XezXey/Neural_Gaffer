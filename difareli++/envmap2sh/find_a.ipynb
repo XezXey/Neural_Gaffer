{
 "cells": [
  {
   "cell_type": "code",
   "execution_count": 10,
   "id": "6a739233",
   "metadata": {},
   "outputs": [
    {
     "name": "stdout",
     "output_type": "stream",
     "text": [
      "A_0:  3.141592653589793\n",
      "A_1:  2.0943951023931953\n",
      "A_2:  0.7853981633974483\n",
      "A_3:  0\n",
      "A_4:  -0.1308996938995747\n",
      "A_5:  0\n",
      "A_6:  0.04908738521234052\n",
      "A_7:  0\n"
     ]
    }
   ],
   "source": [
    "import numpy as np\n",
    "import scipy\n",
    "Lmax = 7\n",
    "for l in range(Lmax + 1):\n",
    "    \n",
    "    if l == 1:\n",
    "        out = 2 * np.pi / 3\n",
    "    elif l > 1 and l % 2 == 1:\n",
    "        out = 0\n",
    "    elif l % 2 == 0:\n",
    "        fact = scipy.special.factorial(l) / ((2 ** l) * (scipy.special.factorial(l / 2) ** 2))\n",
    "        out = 2 * np.pi * ((((-1) ** ((l / 2) - 1))) / ((l + 2) * (l - 1))) * fact\n",
    "    \n",
    "    print(f\"A_{l}: \", out)\n"
   ]
  }
 ],
 "metadata": {
  "kernelspec": {
   "display_name": "neural-gaffer",
   "language": "python",
   "name": "python3"
  },
  "language_info": {
   "codemirror_mode": {
    "name": "ipython",
    "version": 3
   },
   "file_extension": ".py",
   "mimetype": "text/x-python",
   "name": "python",
   "nbconvert_exporter": "python",
   "pygments_lexer": "ipython3",
   "version": "3.9.23"
  }
 },
 "nbformat": 4,
 "nbformat_minor": 5
}
