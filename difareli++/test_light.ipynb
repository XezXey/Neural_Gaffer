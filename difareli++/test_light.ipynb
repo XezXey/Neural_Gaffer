{
 "cells": [
  {
   "cell_type": "code",
   "execution_count": null,
   "id": "a9bc5b7b",
   "metadata": {},
   "outputs": [
    {
     "name": "stdout",
     "output_type": "stream",
     "text": [
      "(256, 256, 3) 0.0 0.94509804\n",
      "(256, 256, 3) 0.050980393 1.0\n"
     ]
    }
   ],
   "source": [
    "import numpy as np\n",
    "import matplotlib.pyplot as plt\n",
    "hdr = \"/home/mint/Dev/DiFaReli++/TPAMI_baseline_MajorRevision/Neural_Gaffer/preprocessed_lighting_data/012_hdrmaps_com_free_2K/HDR_normalized/\"\n",
    "ldr = \"/home/mint/Dev/DiFaReli++/TPAMI_baseline_MajorRevision/Neural_Gaffer/preprocessed_lighting_data/012_hdrmaps_com_free_2K/LDR/\"\n",
    "hdr_img = plt.imread(f'{hdr}/0.png')    # 0-1\n",
    "print(hdr_img.shape, np.min(hdr_img), np.max(hdr_img))\n",
    "ldr_img = plt.imread(f'{ldr}/0.png')    # 0-1\n",
    "print(ldr_img.shape, np.min(ldr_img), np.max(ldr_img))\n"
   ]
  }
 ],
 "metadata": {
  "kernelspec": {
   "display_name": "neural-gaffer",
   "language": "python",
   "name": "python3"
  },
  "language_info": {
   "codemirror_mode": {
    "name": "ipython",
    "version": 3
   },
   "file_extension": ".py",
   "mimetype": "text/x-python",
   "name": "python",
   "nbconvert_exporter": "python",
   "pygments_lexer": "ipython3",
   "version": "3.9.23"
  }
 },
 "nbformat": 4,
 "nbformat_minor": 5
}
